{
 "cells": [
  {
   "cell_type": "code",
   "execution_count": 1,
   "metadata": {},
   "outputs": [],
   "source": [
    "# necessary imports\n",
    "import pandas as pd\n",
    "from rdkit import Chem\n",
    "from rdkit.Chem import PandasTools\n",
    "from rdkit.Chem import Crippen\n",
    "import glob\n",
    "import pandas as pd\n",
    "import os\n",
    "import re\n",
    "import json\n",
    "from bs4 import BeautifulSoup"
   ]
  },
  {
   "cell_type": "code",
   "execution_count": 2,
   "metadata": {},
   "outputs": [],
   "source": [
    "def get_src_from_image_tag(html):\n",
    "    soup = BeautifulSoup(html, \"html.parser\")\n",
    "    return soup.img['src']"
   ]
  },
  {
   "cell_type": "code",
   "execution_count": 3,
   "metadata": {},
   "outputs": [],
   "source": [
    "# This works for folders of Shamim Afrose and Rohon\n",
    "\n",
    "def get_dict_1(path):\n",
    "    smiles_dict_1 = dict()\n",
    "    i = 0\n",
    "    for file in glob.iglob('{}/**//*.sdf'.format(path), recursive=True): # data is saved in subdirectories of current directory\n",
    "        sdf = Chem.SDMolSupplier(file) # read sdf\n",
    "        for mol in sdf:\n",
    "            smiles = Chem.MolToSmiles(mol) # get smiles\n",
    "            if smiles_dict_1.get(smiles, -1) == -1:\n",
    "                i += 1\n",
    "                smiles_dict_1[smiles] = {\n",
    "                    'molecular_formula': Chem.rdMolDescriptors.CalcMolFormula(mol), # formula\n",
    "                    'molecular_weight': Chem.rdMolDescriptors.CalcExactMolWt(mol), # weight\n",
    "                    'hba': Chem.rdMolDescriptors.CalcNumHBA(mol), # h bond acceptor\n",
    "                    'hbd': Chem.rdMolDescriptors.CalcNumHBD(mol), # h bond donor\n",
    "                    'molar_refractivity': Chem.Crippen.MolMR(mol), # molar refractivity\n",
    "                    'tpsa': Chem.rdMolDescriptors.CalcTPSA(mol), # tpsa\n",
    "                    'logp': Chem.Crippen.MolLogP(mol), # logP\n",
    "                    'romol': get_src_from_image_tag(str(mol)) # image of the molecule\n",
    "                }\n",
    "                parent = os.path.split(os.path.dirname(file))[-1]\n",
    "                smiles_dict_1[smiles]['plant'] = [re.search('(\\w+ \\w+)', parent).group(0)]\n",
    "            else:\n",
    "                parent = os.path.split(os.path.dirname(file))[-1]\n",
    "                plant = re.search('(\\w+ \\w+)', parent).group(0)\n",
    "                if plant not in smiles_dict_1[smiles]['plant']:\n",
    "                    smiles_dict_1[smiles]['plant'].append(plant)\n",
    "            if i % 100 == 0:\n",
    "                print('{} plants processed'.format(i))\n",
    "    return smiles_dict_1"
   ]
  },
  {
   "cell_type": "code",
   "execution_count": 4,
   "metadata": {},
   "outputs": [],
   "source": [
    "# This works for folders of Suvro and Mita\n",
    "\n",
    "def get_dict_2(path):\n",
    "    smiles_dict_2 = dict()\n",
    "    i = 0\n",
    "    for file in glob.iglob('{}/**//*.sdf'.format(path), recursive=True): # data is saved in subdirectories of current directory\n",
    "        sdf = Chem.SDMolSupplier(file) # read sdf\n",
    "        for mol in sdf:\n",
    "            smiles = Chem.MolToSmiles(mol) # get smiles\n",
    "            if smiles_dict_2.get(smiles, -1) == -1:\n",
    "                i += 1\n",
    "                smiles_dict_2[smiles] = {\n",
    "                    'molecular_formula': Chem.rdMolDescriptors.CalcMolFormula(mol), # formula\n",
    "                    'molecular_weight': Chem.rdMolDescriptors.CalcExactMolWt(mol), # weight\n",
    "                    'hba': Chem.rdMolDescriptors.CalcNumHBA(mol), # h bond acceptor\n",
    "                    'hbd': Chem.rdMolDescriptors.CalcNumHBD(mol), # h bond donor\n",
    "                    'molar_refractivity': Chem.Crippen.MolMR(mol), # molar refractivity\n",
    "                    'tpsa': Chem.rdMolDescriptors.CalcTPSA(mol), # tpsa\n",
    "                    'logp': Chem.Crippen.MolLogP(mol), # logP\n",
    "                    'romol': get_src_from_image_tag(str(mol)) # image of the molecule\n",
    "                }\n",
    "                parent = os.path.dirname(file).split(os.sep)[-2]\n",
    "                smiles_dict_2[smiles]['plant'] = [re.search('(\\w+ \\w+)', parent).group(0)]\n",
    "            else:\n",
    "                parent = os.path.dirname(file).split(os.sep)[-2]\n",
    "                plant = re.search('(\\w+ \\w+)', parent).group(0)\n",
    "                if plant not in smiles_dict_2[smiles]['plant']:\n",
    "                    smiles_dict_2[smiles]['plant'].append(plant)\n",
    "            if i % 100 == 0:\n",
    "                print('{} plants processed'.format(i))\n",
    "    return smiles_dict_2"
   ]
  },
  {
   "cell_type": "code",
   "execution_count": 5,
   "metadata": {},
   "outputs": [
    {
     "name": "stdout",
     "output_type": "stream",
     "text": [
      "100 plants processed\n",
      "200 plants processed\n",
      "300 plants processed\n",
      "400 plants processed\n",
      "500 plants processed\n",
      "600 plants processed\n",
      "700 plants processed\n",
      "800 plants processed\n",
      "800 plants processed\n",
      "800 plants processed\n",
      "800 plants processed\n",
      "800 plants processed\n",
      "800 plants processed\n",
      "800 plants processed\n",
      "800 plants processed\n",
      "900 plants processed\n",
      "900 plants processed\n",
      "1000 plants processed\n",
      "1100 plants processed\n",
      "1100 plants processed\n",
      "1100 plants processed\n",
      "1100 plants processed\n",
      "1200 plants processed\n",
      "1200 plants processed\n",
      "1200 plants processed\n",
      "1200 plants processed\n",
      "1200 plants processed\n",
      "1300 plants processed\n",
      "1400 plants processed\n",
      "1500 plants processed\n",
      "1600 plants processed\n",
      "1700 plants processed\n",
      "1800 plants processed\n",
      "1900 plants processed\n",
      "1900 plants processed\n",
      "2000 plants processed\n",
      "2000 plants processed\n",
      "2000 plants processed\n",
      "2000 plants processed\n",
      "2000 plants processed\n",
      "2100 plants processed\n",
      "2200 plants processed\n",
      "2200 plants processed\n"
     ]
    }
   ],
   "source": [
    "with open('data/data1.json', 'w') as outfile:\n",
    "    smiles_dict_1 = get_dict_1('data/Data1')\n",
    "    json.dump(smiles_dict_1, outfile, indent=4)"
   ]
  },
  {
   "cell_type": "code",
   "execution_count": 6,
   "metadata": {},
   "outputs": [
    {
     "name": "stdout",
     "output_type": "stream",
     "text": [
      "100 plants processed\n",
      "200 plants processed\n",
      "300 plants processed\n",
      "400 plants processed\n",
      "400 plants processed\n",
      "500 plants processed\n",
      "600 plants processed\n",
      "700 plants processed\n",
      "800 plants processed\n",
      "900 plants processed\n",
      "1000 plants processed\n",
      "1100 plants processed\n",
      "1200 plants processed\n",
      "1300 plants processed\n",
      "1400 plants processed\n",
      "1400 plants processed\n",
      "1400 plants processed\n",
      "1400 plants processed\n",
      "1400 plants processed\n",
      "1500 plants processed\n",
      "1600 plants processed\n",
      "1700 plants processed\n",
      "1800 plants processed\n",
      "1900 plants processed\n",
      "2000 plants processed\n",
      "2100 plants processed\n",
      "2200 plants processed\n",
      "2200 plants processed\n",
      "2200 plants processed\n",
      "2200 plants processed\n",
      "2200 plants processed\n",
      "2300 plants processed\n",
      "2400 plants processed\n",
      "2500 plants processed\n",
      "2500 plants processed\n",
      "2600 plants processed\n",
      "2700 plants processed\n",
      "2700 plants processed\n",
      "2800 plants processed\n",
      "2800 plants processed\n",
      "2900 plants processed\n",
      "3000 plants processed\n"
     ]
    },
    {
     "name": "stderr",
     "output_type": "stream",
     "text": [
      "RDKit WARNING: [17:18:07] Warning: molecule is tagged as 3D, but all Z coords are zero\n"
     ]
    },
    {
     "name": "stdout",
     "output_type": "stream",
     "text": [
      "3100 plants processed\n",
      "3100 plants processed\n",
      "3100 plants processed\n",
      "3100 plants processed\n",
      "3100 plants processed\n",
      "3100 plants processed\n",
      "3100 plants processed\n",
      "3100 plants processed\n",
      "3100 plants processed\n",
      "3200 plants processed\n"
     ]
    }
   ],
   "source": [
    "with open('data/data2.json', 'w') as outfile:\n",
    "    smiles_dict_2 = get_dict_2('data/Data2')\n",
    "    json.dump(smiles_dict_2, outfile, indent=4)"
   ]
  }
 ],
 "metadata": {
  "kernelspec": {
   "display_name": "Python 3",
   "language": "python",
   "name": "python3"
  },
  "language_info": {
   "codemirror_mode": {
    "name": "ipython",
    "version": 3
   },
   "file_extension": ".py",
   "mimetype": "text/x-python",
   "name": "python",
   "nbconvert_exporter": "python",
   "pygments_lexer": "ipython3",
   "version": "3.7.9"
  }
 },
 "nbformat": 4,
 "nbformat_minor": 4
}
